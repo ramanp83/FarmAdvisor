{
 "cells": [
  {
   "cell_type": "code",
   "execution_count": 1,
   "id": "b789d47a",
   "metadata": {},
   "outputs": [],
   "source": [
    "import numpy as np\n",
    "import pandas as pd\n",
    "import matplotlib as mpl\n",
    "import matplotlib.pyplot as plt\n"
   ]
  },
  {
   "cell_type": "code",
   "execution_count": 2,
   "id": "0114770e",
   "metadata": {},
   "outputs": [
    {
     "name": "stdout",
     "output_type": "stream",
     "text": [
      "(2200, 8)\n"
     ]
    }
   ],
   "source": [
    "train = pd.read_csv(\"Crop_data.csv\")\n",
    "print(train.shape)\n"
   ]
  },
  {
   "cell_type": "code",
   "execution_count": 3,
   "id": "6955d1ee",
   "metadata": {},
   "outputs": [
    {
     "data": {
      "text/html": [
       "<div>\n",
       "<style scoped>\n",
       "    .dataframe tbody tr th:only-of-type {\n",
       "        vertical-align: middle;\n",
       "    }\n",
       "\n",
       "    .dataframe tbody tr th {\n",
       "        vertical-align: top;\n",
       "    }\n",
       "\n",
       "    .dataframe thead th {\n",
       "        text-align: right;\n",
       "    }\n",
       "</style>\n",
       "<table border=\"1\" class=\"dataframe\">\n",
       "  <thead>\n",
       "    <tr style=\"text-align: right;\">\n",
       "      <th></th>\n",
       "      <th>Train</th>\n",
       "    </tr>\n",
       "  </thead>\n",
       "  <tbody>\n",
       "  </tbody>\n",
       "</table>\n",
       "</div>"
      ],
      "text/plain": [
       "Empty DataFrame\n",
       "Columns: [Train]\n",
       "Index: []"
      ]
     },
     "execution_count": 3,
     "metadata": {},
     "output_type": "execute_result"
    }
   ],
   "source": [
    "NAs = pd.concat([train.isnull().sum()], axis=1, keys=[\"Train\"])\n",
    "NAs[NAs.sum(axis=1) > 0]\n"
   ]
  },
  {
   "cell_type": "code",
   "execution_count": 4,
   "id": "54a26874",
   "metadata": {},
   "outputs": [
    {
     "name": "stdout",
     "output_type": "stream",
     "text": [
      "    N   P   K  temperature   humidity        ph    rainfall  label_apple  \\\n",
      "0  90  42  43    20.879744  82.002744  6.502985  202.935536            0   \n",
      "1  85  58  41    21.770462  80.319644  7.038096  226.655537            0   \n",
      "2  60  55  44    23.004459  82.320763  7.840207  263.964248            0   \n",
      "3  74  35  40    26.491096  80.158363  6.980401  242.864034            0   \n",
      "4  78  42  42    20.130175  81.604873  7.628473  262.717340            0   \n",
      "\n",
      "   label_banana  label_blackgram  ...  label_mango  label_mothbeans  \\\n",
      "0             0                0  ...            0                0   \n",
      "1             0                0  ...            0                0   \n",
      "2             0                0  ...            0                0   \n",
      "3             0                0  ...            0                0   \n",
      "4             0                0  ...            0                0   \n",
      "\n",
      "   label_mungbean  label_muskmelon  label_orange  label_papaya  \\\n",
      "0               0                0             0             0   \n",
      "1               0                0             0             0   \n",
      "2               0                0             0             0   \n",
      "3               0                0             0             0   \n",
      "4               0                0             0             0   \n",
      "\n",
      "   label_pigeonpeas  label_pomegranate  label_rice  label_watermelon  \n",
      "0                 0                  0           1                 0  \n",
      "1                 0                  0           1                 0  \n",
      "2                 0                  0           1                 0  \n",
      "3                 0                  0           1                 0  \n",
      "4                 0                  0           1                 0  \n",
      "\n",
      "[5 rows x 29 columns]\n"
     ]
    }
   ],
   "source": [
    "train = pd.get_dummies(train, columns=[\"label\"], prefix=[\"label\"])\n",
    "\n",
    "# Check the updated DataFrame with one-hot encoded 'label' column\n",
    "print(train.head())"
   ]
  },
  {
   "cell_type": "code",
   "execution_count": 5,
   "id": "035aa661",
   "metadata": {},
   "outputs": [
    {
     "name": "stdout",
     "output_type": "stream",
     "text": [
      "Index(['N', 'P', 'K', 'temperature', 'humidity', 'ph', 'rainfall',\n",
      "       'label_apple', 'label_banana', 'label_blackgram', 'label_chickpea',\n",
      "       'label_coconut', 'label_coffee', 'label_cotton', 'label_grapes',\n",
      "       'label_jute', 'label_kidneybeans', 'label_lentil', 'label_maize',\n",
      "       'label_mango', 'label_mothbeans', 'label_mungbean', 'label_muskmelon',\n",
      "       'label_orange', 'label_papaya', 'label_pigeonpeas', 'label_pomegranate',\n",
      "       'label_rice', 'label_watermelon'],\n",
      "      dtype='object')\n"
     ]
    }
   ],
   "source": [
    "print(train.columns)\n"
   ]
  },
  {
   "cell_type": "code",
   "execution_count": 6,
   "id": "5a4ff5ba",
   "metadata": {},
   "outputs": [],
   "source": [
    "# Create a new column 'label' by combining the one-hot encoded columns\n",
    "train['label'] = train[['label_apple', 'label_banana', 'label_blackgram', 'label_chickpea',\n",
    "                       'label_coconut', 'label_coffee', 'label_cotton', 'label_grapes',\n",
    "                       'label_jute', 'label_kidneybeans', 'label_lentil', 'label_maize',\n",
    "                       'label_mango', 'label_mothbeans', 'label_mungbean', 'label_muskmelon',\n",
    "                       'label_orange', 'label_papaya', 'label_pigeonpeas', 'label_pomegranate',\n",
    "                       'label_rice', 'label_watermelon']].idxmax(axis=1)\n",
    "\n",
    "# Drop the one-hot encoded columns\n",
    "train.drop(['label_apple', 'label_banana', 'label_blackgram', 'label_chickpea',\n",
    "            'label_coconut', 'label_coffee', 'label_cotton', 'label_grapes',\n",
    "            'label_jute', 'label_kidneybeans', 'label_lentil', 'label_maize',\n",
    "            'label_mango', 'label_mothbeans', 'label_mungbean', 'label_muskmelon',\n",
    "            'label_orange', 'label_papaya', 'label_pigeonpeas', 'label_pomegranate',\n",
    "            'label_rice', 'label_watermelon'], axis=1, inplace=True)\n"
   ]
  },
  {
   "cell_type": "code",
   "execution_count": 7,
   "id": "6d99a92f",
   "metadata": {},
   "outputs": [],
   "source": [
    "from sklearn.model_selection import train_test_split\n",
    "\n",
    "X = train.drop(\"label\", axis=1)  # Features (excluding the target variable)\n",
    "y = train[\"label\"]              # Target variable\n",
    "\n",
    "X_train, X_test, y_train, y_test = train_test_split(X, y, test_size=0.3, random_state=42)\n"
   ]
  },
  {
   "cell_type": "code",
   "execution_count": 8,
   "id": "fc9ba85d",
   "metadata": {},
   "outputs": [
    {
     "data": {
      "text/html": [
       "<style>#sk-container-id-1 {color: black;}#sk-container-id-1 pre{padding: 0;}#sk-container-id-1 div.sk-toggleable {background-color: white;}#sk-container-id-1 label.sk-toggleable__label {cursor: pointer;display: block;width: 100%;margin-bottom: 0;padding: 0.3em;box-sizing: border-box;text-align: center;}#sk-container-id-1 label.sk-toggleable__label-arrow:before {content: \"▸\";float: left;margin-right: 0.25em;color: #696969;}#sk-container-id-1 label.sk-toggleable__label-arrow:hover:before {color: black;}#sk-container-id-1 div.sk-estimator:hover label.sk-toggleable__label-arrow:before {color: black;}#sk-container-id-1 div.sk-toggleable__content {max-height: 0;max-width: 0;overflow: hidden;text-align: left;background-color: #f0f8ff;}#sk-container-id-1 div.sk-toggleable__content pre {margin: 0.2em;color: black;border-radius: 0.25em;background-color: #f0f8ff;}#sk-container-id-1 input.sk-toggleable__control:checked~div.sk-toggleable__content {max-height: 200px;max-width: 100%;overflow: auto;}#sk-container-id-1 input.sk-toggleable__control:checked~label.sk-toggleable__label-arrow:before {content: \"▾\";}#sk-container-id-1 div.sk-estimator input.sk-toggleable__control:checked~label.sk-toggleable__label {background-color: #d4ebff;}#sk-container-id-1 div.sk-label input.sk-toggleable__control:checked~label.sk-toggleable__label {background-color: #d4ebff;}#sk-container-id-1 input.sk-hidden--visually {border: 0;clip: rect(1px 1px 1px 1px);clip: rect(1px, 1px, 1px, 1px);height: 1px;margin: -1px;overflow: hidden;padding: 0;position: absolute;width: 1px;}#sk-container-id-1 div.sk-estimator {font-family: monospace;background-color: #f0f8ff;border: 1px dotted black;border-radius: 0.25em;box-sizing: border-box;margin-bottom: 0.5em;}#sk-container-id-1 div.sk-estimator:hover {background-color: #d4ebff;}#sk-container-id-1 div.sk-parallel-item::after {content: \"\";width: 100%;border-bottom: 1px solid gray;flex-grow: 1;}#sk-container-id-1 div.sk-label:hover label.sk-toggleable__label {background-color: #d4ebff;}#sk-container-id-1 div.sk-serial::before {content: \"\";position: absolute;border-left: 1px solid gray;box-sizing: border-box;top: 0;bottom: 0;left: 50%;z-index: 0;}#sk-container-id-1 div.sk-serial {display: flex;flex-direction: column;align-items: center;background-color: white;padding-right: 0.2em;padding-left: 0.2em;position: relative;}#sk-container-id-1 div.sk-item {position: relative;z-index: 1;}#sk-container-id-1 div.sk-parallel {display: flex;align-items: stretch;justify-content: center;background-color: white;position: relative;}#sk-container-id-1 div.sk-item::before, #sk-container-id-1 div.sk-parallel-item::before {content: \"\";position: absolute;border-left: 1px solid gray;box-sizing: border-box;top: 0;bottom: 0;left: 50%;z-index: -1;}#sk-container-id-1 div.sk-parallel-item {display: flex;flex-direction: column;z-index: 1;position: relative;background-color: white;}#sk-container-id-1 div.sk-parallel-item:first-child::after {align-self: flex-end;width: 50%;}#sk-container-id-1 div.sk-parallel-item:last-child::after {align-self: flex-start;width: 50%;}#sk-container-id-1 div.sk-parallel-item:only-child::after {width: 0;}#sk-container-id-1 div.sk-dashed-wrapped {border: 1px dashed gray;margin: 0 0.4em 0.5em 0.4em;box-sizing: border-box;padding-bottom: 0.4em;background-color: white;}#sk-container-id-1 div.sk-label label {font-family: monospace;font-weight: bold;display: inline-block;line-height: 1.2em;}#sk-container-id-1 div.sk-label-container {text-align: center;}#sk-container-id-1 div.sk-container {/* jupyter's `normalize.less` sets `[hidden] { display: none; }` but bootstrap.min.css set `[hidden] { display: none !important; }` so we also need the `!important` here to be able to override the default hidden behavior on the sphinx rendered scikit-learn.org. See: https://github.com/scikit-learn/scikit-learn/issues/21755 */display: inline-block !important;position: relative;}#sk-container-id-1 div.sk-text-repr-fallback {display: none;}</style><div id=\"sk-container-id-1\" class=\"sk-top-container\"><div class=\"sk-text-repr-fallback\"><pre>DecisionTreeClassifier(random_state=42)</pre><b>In a Jupyter environment, please rerun this cell to show the HTML representation or trust the notebook. <br />On GitHub, the HTML representation is unable to render, please try loading this page with nbviewer.org.</b></div><div class=\"sk-container\" hidden><div class=\"sk-item\"><div class=\"sk-estimator sk-toggleable\"><input class=\"sk-toggleable__control sk-hidden--visually\" id=\"sk-estimator-id-1\" type=\"checkbox\" checked><label for=\"sk-estimator-id-1\" class=\"sk-toggleable__label sk-toggleable__label-arrow\">DecisionTreeClassifier</label><div class=\"sk-toggleable__content\"><pre>DecisionTreeClassifier(random_state=42)</pre></div></div></div></div></div>"
      ],
      "text/plain": [
       "DecisionTreeClassifier(random_state=42)"
      ]
     },
     "execution_count": 8,
     "metadata": {},
     "output_type": "execute_result"
    }
   ],
   "source": [
    "from sklearn.tree import DecisionTreeClassifier\n",
    "\n",
    "# Initialize the model\n",
    "rf_classifier = DecisionTreeClassifier(random_state=42)\n",
    "\n",
    "# Train the model\n",
    "rf_classifier.fit(X_train, y_train)\n"
   ]
  },
  {
   "cell_type": "code",
   "execution_count": 9,
   "id": "c75de2a6",
   "metadata": {
    "scrolled": true
   },
   "outputs": [
    {
     "name": "stdout",
     "output_type": "stream",
     "text": [
      "Accuracy: 0.9863636363636363\n",
      "Classification Report:\n",
      "                    precision    recall  f1-score   support\n",
      "\n",
      "      label_apple       1.00      1.00      1.00        34\n",
      "     label_banana       1.00      1.00      1.00        26\n",
      "  label_blackgram       0.96      1.00      0.98        26\n",
      "   label_chickpea       1.00      1.00      1.00        34\n",
      "    label_coconut       1.00      1.00      1.00        33\n",
      "     label_coffee       1.00      1.00      1.00        30\n",
      "     label_cotton       1.00      1.00      1.00        28\n",
      "     label_grapes       1.00      1.00      1.00        23\n",
      "       label_jute       0.86      0.94      0.90        34\n",
      "label_kidneybeans       1.00      1.00      1.00        36\n",
      "     label_lentil       0.96      1.00      0.98        22\n",
      "      label_maize       1.00      1.00      1.00        26\n",
      "      label_mango       1.00      1.00      1.00        32\n",
      "  label_mothbeans       1.00      0.94      0.97        34\n",
      "   label_mungbean       1.00      1.00      1.00        30\n",
      "  label_muskmelon       1.00      1.00      1.00        24\n",
      "     label_orange       1.00      1.00      1.00        25\n",
      "     label_papaya       1.00      1.00      1.00        37\n",
      " label_pigeonpeas       1.00      1.00      1.00        37\n",
      "label_pomegranate       1.00      1.00      1.00        38\n",
      "       label_rice       0.92      0.82      0.87        28\n",
      " label_watermelon       1.00      1.00      1.00        23\n",
      "\n",
      "         accuracy                           0.99       660\n",
      "        macro avg       0.99      0.99      0.99       660\n",
      "     weighted avg       0.99      0.99      0.99       660\n",
      "\n"
     ]
    }
   ],
   "source": [
    "from sklearn.metrics import accuracy_score, classification_report\n",
    "\n",
    "# Make predictions on the test set\n",
    "y_pred = rf_classifier.predict(X_test)\n",
    "\n",
    "# Evaluate model performance\n",
    "accuracy = accuracy_score(y_test, y_pred)\n",
    "report = classification_report(y_test, y_pred)\n",
    "\n",
    "print(f\"Accuracy: {accuracy}\")\n",
    "print(\"Classification Report:\\n\", report)\n"
   ]
  },
  {
   "cell_type": "code",
   "execution_count": 10,
   "id": "9c7aecf5",
   "metadata": {},
   "outputs": [
    {
     "name": "stdout",
     "output_type": "stream",
     "text": [
      "n_estimators=1:\n",
      "Training Accuracy: 1.0\n",
      "Testing Accuracy: 0.9863636363636363\n",
      "Classification Report:\n",
      " {'label_rice': {'precision': 1.0, 'recall': 1.0, 'f1-score': 1.0, 'support': 34.0}, 'label_maize': {'precision': 1.0, 'recall': 1.0, 'f1-score': 1.0, 'support': 26.0}, 'label_chickpea': {'precision': 0.9629629629629629, 'recall': 1.0, 'f1-score': 0.9811320754716981, 'support': 26.0}, 'label_kidneybeans': {'precision': 1.0, 'recall': 1.0, 'f1-score': 1.0, 'support': 34.0}, 'label_pigeonpeas': {'precision': 1.0, 'recall': 1.0, 'f1-score': 1.0, 'support': 33.0}, 'label_mothbeans': {'precision': 1.0, 'recall': 1.0, 'f1-score': 1.0, 'support': 30.0}, 'label_mungbean': {'precision': 1.0, 'recall': 1.0, 'f1-score': 1.0, 'support': 28.0}, 'label_blackgram': {'precision': 1.0, 'recall': 1.0, 'f1-score': 1.0, 'support': 23.0}, 'label_lentil': {'precision': 0.8648648648648649, 'recall': 0.9411764705882353, 'f1-score': 0.9014084507042254, 'support': 34.0}, 'label_pomegranate': {'precision': 1.0, 'recall': 1.0, 'f1-score': 1.0, 'support': 36.0}, 'label_banana': {'precision': 0.9565217391304348, 'recall': 1.0, 'f1-score': 0.9777777777777777, 'support': 22.0}, 'label_mango': {'precision': 1.0, 'recall': 1.0, 'f1-score': 1.0, 'support': 26.0}, 'label_grapes': {'precision': 1.0, 'recall': 1.0, 'f1-score': 1.0, 'support': 32.0}, 'label_watermelon': {'precision': 1.0, 'recall': 0.9411764705882353, 'f1-score': 0.9696969696969697, 'support': 34.0}, 'label_muskmelon': {'precision': 1.0, 'recall': 1.0, 'f1-score': 1.0, 'support': 30.0}, 'label_apple': {'precision': 1.0, 'recall': 1.0, 'f1-score': 1.0, 'support': 24.0}, 'label_orange': {'precision': 1.0, 'recall': 1.0, 'f1-score': 1.0, 'support': 25.0}, 'label_papaya': {'precision': 1.0, 'recall': 1.0, 'f1-score': 1.0, 'support': 37.0}, 'label_coconut': {'precision': 1.0, 'recall': 1.0, 'f1-score': 1.0, 'support': 37.0}, 'label_cotton': {'precision': 1.0, 'recall': 1.0, 'f1-score': 1.0, 'support': 38.0}, 'label_jute': {'precision': 0.92, 'recall': 0.8214285714285714, 'f1-score': 0.8679245283018867, 'support': 28.0}, 'label_coffee': {'precision': 1.0, 'recall': 1.0, 'f1-score': 1.0, 'support': 23.0}, 'accuracy': 0.9863636363636363, 'macro avg': {'precision': 0.9865613439526484, 'recall': 0.9865355233002293, 'f1-score': 0.9862699909978435, 'support': 660.0}, 'weighted avg': {'precision': 0.9867362434898667, 'recall': 0.9863636363636363, 'f1-score': 0.9862727517567706, 'support': 660.0}}\n",
      "======================================\n",
      "n_estimators=2:\n",
      "Training Accuracy: 1.0\n",
      "Testing Accuracy: 0.9863636363636363\n",
      "Classification Report:\n",
      " {'label_rice': {'precision': 1.0, 'recall': 1.0, 'f1-score': 1.0, 'support': 34.0}, 'label_maize': {'precision': 1.0, 'recall': 1.0, 'f1-score': 1.0, 'support': 26.0}, 'label_chickpea': {'precision': 0.9629629629629629, 'recall': 1.0, 'f1-score': 0.9811320754716981, 'support': 26.0}, 'label_kidneybeans': {'precision': 1.0, 'recall': 1.0, 'f1-score': 1.0, 'support': 34.0}, 'label_pigeonpeas': {'precision': 1.0, 'recall': 1.0, 'f1-score': 1.0, 'support': 33.0}, 'label_mothbeans': {'precision': 1.0, 'recall': 1.0, 'f1-score': 1.0, 'support': 30.0}, 'label_mungbean': {'precision': 1.0, 'recall': 1.0, 'f1-score': 1.0, 'support': 28.0}, 'label_blackgram': {'precision': 1.0, 'recall': 1.0, 'f1-score': 1.0, 'support': 23.0}, 'label_lentil': {'precision': 0.8648648648648649, 'recall': 0.9411764705882353, 'f1-score': 0.9014084507042254, 'support': 34.0}, 'label_pomegranate': {'precision': 1.0, 'recall': 1.0, 'f1-score': 1.0, 'support': 36.0}, 'label_banana': {'precision': 0.9565217391304348, 'recall': 1.0, 'f1-score': 0.9777777777777777, 'support': 22.0}, 'label_mango': {'precision': 1.0, 'recall': 1.0, 'f1-score': 1.0, 'support': 26.0}, 'label_grapes': {'precision': 1.0, 'recall': 1.0, 'f1-score': 1.0, 'support': 32.0}, 'label_watermelon': {'precision': 1.0, 'recall': 0.9411764705882353, 'f1-score': 0.9696969696969697, 'support': 34.0}, 'label_muskmelon': {'precision': 1.0, 'recall': 1.0, 'f1-score': 1.0, 'support': 30.0}, 'label_apple': {'precision': 1.0, 'recall': 1.0, 'f1-score': 1.0, 'support': 24.0}, 'label_orange': {'precision': 1.0, 'recall': 1.0, 'f1-score': 1.0, 'support': 25.0}, 'label_papaya': {'precision': 1.0, 'recall': 1.0, 'f1-score': 1.0, 'support': 37.0}, 'label_coconut': {'precision': 1.0, 'recall': 1.0, 'f1-score': 1.0, 'support': 37.0}, 'label_cotton': {'precision': 1.0, 'recall': 1.0, 'f1-score': 1.0, 'support': 38.0}, 'label_jute': {'precision': 0.92, 'recall': 0.8214285714285714, 'f1-score': 0.8679245283018867, 'support': 28.0}, 'label_coffee': {'precision': 1.0, 'recall': 1.0, 'f1-score': 1.0, 'support': 23.0}, 'accuracy': 0.9863636363636363, 'macro avg': {'precision': 0.9865613439526484, 'recall': 0.9865355233002293, 'f1-score': 0.9862699909978435, 'support': 660.0}, 'weighted avg': {'precision': 0.9867362434898667, 'recall': 0.9863636363636363, 'f1-score': 0.9862727517567706, 'support': 660.0}}\n",
      "======================================\n",
      "n_estimators=4:\n",
      "Training Accuracy: 1.0\n",
      "Testing Accuracy: 0.9863636363636363\n",
      "Classification Report:\n",
      " {'label_rice': {'precision': 1.0, 'recall': 1.0, 'f1-score': 1.0, 'support': 34.0}, 'label_maize': {'precision': 1.0, 'recall': 1.0, 'f1-score': 1.0, 'support': 26.0}, 'label_chickpea': {'precision': 0.9629629629629629, 'recall': 1.0, 'f1-score': 0.9811320754716981, 'support': 26.0}, 'label_kidneybeans': {'precision': 1.0, 'recall': 1.0, 'f1-score': 1.0, 'support': 34.0}, 'label_pigeonpeas': {'precision': 1.0, 'recall': 1.0, 'f1-score': 1.0, 'support': 33.0}, 'label_mothbeans': {'precision': 1.0, 'recall': 1.0, 'f1-score': 1.0, 'support': 30.0}, 'label_mungbean': {'precision': 1.0, 'recall': 1.0, 'f1-score': 1.0, 'support': 28.0}, 'label_blackgram': {'precision': 1.0, 'recall': 1.0, 'f1-score': 1.0, 'support': 23.0}, 'label_lentil': {'precision': 0.8648648648648649, 'recall': 0.9411764705882353, 'f1-score': 0.9014084507042254, 'support': 34.0}, 'label_pomegranate': {'precision': 1.0, 'recall': 1.0, 'f1-score': 1.0, 'support': 36.0}, 'label_banana': {'precision': 0.9565217391304348, 'recall': 1.0, 'f1-score': 0.9777777777777777, 'support': 22.0}, 'label_mango': {'precision': 1.0, 'recall': 1.0, 'f1-score': 1.0, 'support': 26.0}, 'label_grapes': {'precision': 1.0, 'recall': 1.0, 'f1-score': 1.0, 'support': 32.0}, 'label_watermelon': {'precision': 1.0, 'recall': 0.9411764705882353, 'f1-score': 0.9696969696969697, 'support': 34.0}, 'label_muskmelon': {'precision': 1.0, 'recall': 1.0, 'f1-score': 1.0, 'support': 30.0}, 'label_apple': {'precision': 1.0, 'recall': 1.0, 'f1-score': 1.0, 'support': 24.0}, 'label_orange': {'precision': 1.0, 'recall': 1.0, 'f1-score': 1.0, 'support': 25.0}, 'label_papaya': {'precision': 1.0, 'recall': 1.0, 'f1-score': 1.0, 'support': 37.0}, 'label_coconut': {'precision': 1.0, 'recall': 1.0, 'f1-score': 1.0, 'support': 37.0}, 'label_cotton': {'precision': 1.0, 'recall': 1.0, 'f1-score': 1.0, 'support': 38.0}, 'label_jute': {'precision': 0.92, 'recall': 0.8214285714285714, 'f1-score': 0.8679245283018867, 'support': 28.0}, 'label_coffee': {'precision': 1.0, 'recall': 1.0, 'f1-score': 1.0, 'support': 23.0}, 'accuracy': 0.9863636363636363, 'macro avg': {'precision': 0.9865613439526484, 'recall': 0.9865355233002293, 'f1-score': 0.9862699909978435, 'support': 660.0}, 'weighted avg': {'precision': 0.9867362434898667, 'recall': 0.9863636363636363, 'f1-score': 0.9862727517567706, 'support': 660.0}}\n",
      "======================================\n",
      "n_estimators=8:\n",
      "Training Accuracy: 1.0\n",
      "Testing Accuracy: 0.9863636363636363\n",
      "Classification Report:\n",
      " {'label_rice': {'precision': 1.0, 'recall': 1.0, 'f1-score': 1.0, 'support': 34.0}, 'label_maize': {'precision': 1.0, 'recall': 1.0, 'f1-score': 1.0, 'support': 26.0}, 'label_chickpea': {'precision': 0.9629629629629629, 'recall': 1.0, 'f1-score': 0.9811320754716981, 'support': 26.0}, 'label_kidneybeans': {'precision': 1.0, 'recall': 1.0, 'f1-score': 1.0, 'support': 34.0}, 'label_pigeonpeas': {'precision': 1.0, 'recall': 1.0, 'f1-score': 1.0, 'support': 33.0}, 'label_mothbeans': {'precision': 1.0, 'recall': 1.0, 'f1-score': 1.0, 'support': 30.0}, 'label_mungbean': {'precision': 1.0, 'recall': 1.0, 'f1-score': 1.0, 'support': 28.0}, 'label_blackgram': {'precision': 1.0, 'recall': 1.0, 'f1-score': 1.0, 'support': 23.0}, 'label_lentil': {'precision': 0.8648648648648649, 'recall': 0.9411764705882353, 'f1-score': 0.9014084507042254, 'support': 34.0}, 'label_pomegranate': {'precision': 1.0, 'recall': 1.0, 'f1-score': 1.0, 'support': 36.0}, 'label_banana': {'precision': 0.9565217391304348, 'recall': 1.0, 'f1-score': 0.9777777777777777, 'support': 22.0}, 'label_mango': {'precision': 1.0, 'recall': 1.0, 'f1-score': 1.0, 'support': 26.0}, 'label_grapes': {'precision': 1.0, 'recall': 1.0, 'f1-score': 1.0, 'support': 32.0}, 'label_watermelon': {'precision': 1.0, 'recall': 0.9411764705882353, 'f1-score': 0.9696969696969697, 'support': 34.0}, 'label_muskmelon': {'precision': 1.0, 'recall': 1.0, 'f1-score': 1.0, 'support': 30.0}, 'label_apple': {'precision': 1.0, 'recall': 1.0, 'f1-score': 1.0, 'support': 24.0}, 'label_orange': {'precision': 1.0, 'recall': 1.0, 'f1-score': 1.0, 'support': 25.0}, 'label_papaya': {'precision': 1.0, 'recall': 1.0, 'f1-score': 1.0, 'support': 37.0}, 'label_coconut': {'precision': 1.0, 'recall': 1.0, 'f1-score': 1.0, 'support': 37.0}, 'label_cotton': {'precision': 1.0, 'recall': 1.0, 'f1-score': 1.0, 'support': 38.0}, 'label_jute': {'precision': 0.92, 'recall': 0.8214285714285714, 'f1-score': 0.8679245283018867, 'support': 28.0}, 'label_coffee': {'precision': 1.0, 'recall': 1.0, 'f1-score': 1.0, 'support': 23.0}, 'accuracy': 0.9863636363636363, 'macro avg': {'precision': 0.9865613439526484, 'recall': 0.9865355233002293, 'f1-score': 0.9862699909978435, 'support': 660.0}, 'weighted avg': {'precision': 0.9867362434898667, 'recall': 0.9863636363636363, 'f1-score': 0.9862727517567706, 'support': 660.0}}\n",
      "======================================\n",
      "n_estimators=16:\n",
      "Training Accuracy: 1.0\n",
      "Testing Accuracy: 0.9863636363636363\n",
      "Classification Report:\n",
      " {'label_rice': {'precision': 1.0, 'recall': 1.0, 'f1-score': 1.0, 'support': 34.0}, 'label_maize': {'precision': 1.0, 'recall': 1.0, 'f1-score': 1.0, 'support': 26.0}, 'label_chickpea': {'precision': 0.9629629629629629, 'recall': 1.0, 'f1-score': 0.9811320754716981, 'support': 26.0}, 'label_kidneybeans': {'precision': 1.0, 'recall': 1.0, 'f1-score': 1.0, 'support': 34.0}, 'label_pigeonpeas': {'precision': 1.0, 'recall': 1.0, 'f1-score': 1.0, 'support': 33.0}, 'label_mothbeans': {'precision': 1.0, 'recall': 1.0, 'f1-score': 1.0, 'support': 30.0}, 'label_mungbean': {'precision': 1.0, 'recall': 1.0, 'f1-score': 1.0, 'support': 28.0}, 'label_blackgram': {'precision': 1.0, 'recall': 1.0, 'f1-score': 1.0, 'support': 23.0}, 'label_lentil': {'precision': 0.8648648648648649, 'recall': 0.9411764705882353, 'f1-score': 0.9014084507042254, 'support': 34.0}, 'label_pomegranate': {'precision': 1.0, 'recall': 1.0, 'f1-score': 1.0, 'support': 36.0}, 'label_banana': {'precision': 0.9565217391304348, 'recall': 1.0, 'f1-score': 0.9777777777777777, 'support': 22.0}, 'label_mango': {'precision': 1.0, 'recall': 1.0, 'f1-score': 1.0, 'support': 26.0}, 'label_grapes': {'precision': 1.0, 'recall': 1.0, 'f1-score': 1.0, 'support': 32.0}, 'label_watermelon': {'precision': 1.0, 'recall': 0.9411764705882353, 'f1-score': 0.9696969696969697, 'support': 34.0}, 'label_muskmelon': {'precision': 1.0, 'recall': 1.0, 'f1-score': 1.0, 'support': 30.0}, 'label_apple': {'precision': 1.0, 'recall': 1.0, 'f1-score': 1.0, 'support': 24.0}, 'label_orange': {'precision': 1.0, 'recall': 1.0, 'f1-score': 1.0, 'support': 25.0}, 'label_papaya': {'precision': 1.0, 'recall': 1.0, 'f1-score': 1.0, 'support': 37.0}, 'label_coconut': {'precision': 1.0, 'recall': 1.0, 'f1-score': 1.0, 'support': 37.0}, 'label_cotton': {'precision': 1.0, 'recall': 1.0, 'f1-score': 1.0, 'support': 38.0}, 'label_jute': {'precision': 0.92, 'recall': 0.8214285714285714, 'f1-score': 0.8679245283018867, 'support': 28.0}, 'label_coffee': {'precision': 1.0, 'recall': 1.0, 'f1-score': 1.0, 'support': 23.0}, 'accuracy': 0.9863636363636363, 'macro avg': {'precision': 0.9865613439526484, 'recall': 0.9865355233002293, 'f1-score': 0.9862699909978435, 'support': 660.0}, 'weighted avg': {'precision': 0.9867362434898667, 'recall': 0.9863636363636363, 'f1-score': 0.9862727517567706, 'support': 660.0}}\n",
      "======================================\n",
      "n_estimators=32:\n",
      "Training Accuracy: 1.0\n",
      "Testing Accuracy: 0.9863636363636363\n",
      "Classification Report:\n",
      " {'label_rice': {'precision': 1.0, 'recall': 1.0, 'f1-score': 1.0, 'support': 34.0}, 'label_maize': {'precision': 1.0, 'recall': 1.0, 'f1-score': 1.0, 'support': 26.0}, 'label_chickpea': {'precision': 0.9629629629629629, 'recall': 1.0, 'f1-score': 0.9811320754716981, 'support': 26.0}, 'label_kidneybeans': {'precision': 1.0, 'recall': 1.0, 'f1-score': 1.0, 'support': 34.0}, 'label_pigeonpeas': {'precision': 1.0, 'recall': 1.0, 'f1-score': 1.0, 'support': 33.0}, 'label_mothbeans': {'precision': 1.0, 'recall': 1.0, 'f1-score': 1.0, 'support': 30.0}, 'label_mungbean': {'precision': 1.0, 'recall': 1.0, 'f1-score': 1.0, 'support': 28.0}, 'label_blackgram': {'precision': 1.0, 'recall': 1.0, 'f1-score': 1.0, 'support': 23.0}, 'label_lentil': {'precision': 0.8648648648648649, 'recall': 0.9411764705882353, 'f1-score': 0.9014084507042254, 'support': 34.0}, 'label_pomegranate': {'precision': 1.0, 'recall': 1.0, 'f1-score': 1.0, 'support': 36.0}, 'label_banana': {'precision': 0.9565217391304348, 'recall': 1.0, 'f1-score': 0.9777777777777777, 'support': 22.0}, 'label_mango': {'precision': 1.0, 'recall': 1.0, 'f1-score': 1.0, 'support': 26.0}, 'label_grapes': {'precision': 1.0, 'recall': 1.0, 'f1-score': 1.0, 'support': 32.0}, 'label_watermelon': {'precision': 1.0, 'recall': 0.9411764705882353, 'f1-score': 0.9696969696969697, 'support': 34.0}, 'label_muskmelon': {'precision': 1.0, 'recall': 1.0, 'f1-score': 1.0, 'support': 30.0}, 'label_apple': {'precision': 1.0, 'recall': 1.0, 'f1-score': 1.0, 'support': 24.0}, 'label_orange': {'precision': 1.0, 'recall': 1.0, 'f1-score': 1.0, 'support': 25.0}, 'label_papaya': {'precision': 1.0, 'recall': 1.0, 'f1-score': 1.0, 'support': 37.0}, 'label_coconut': {'precision': 1.0, 'recall': 1.0, 'f1-score': 1.0, 'support': 37.0}, 'label_cotton': {'precision': 1.0, 'recall': 1.0, 'f1-score': 1.0, 'support': 38.0}, 'label_jute': {'precision': 0.92, 'recall': 0.8214285714285714, 'f1-score': 0.8679245283018867, 'support': 28.0}, 'label_coffee': {'precision': 1.0, 'recall': 1.0, 'f1-score': 1.0, 'support': 23.0}, 'accuracy': 0.9863636363636363, 'macro avg': {'precision': 0.9865613439526484, 'recall': 0.9865355233002293, 'f1-score': 0.9862699909978435, 'support': 660.0}, 'weighted avg': {'precision': 0.9867362434898667, 'recall': 0.9863636363636363, 'f1-score': 0.9862727517567706, 'support': 660.0}}\n",
      "======================================\n"
     ]
    },
    {
     "name": "stdout",
     "output_type": "stream",
     "text": [
      "n_estimators=64:\n",
      "Training Accuracy: 1.0\n",
      "Testing Accuracy: 0.9863636363636363\n",
      "Classification Report:\n",
      " {'label_rice': {'precision': 1.0, 'recall': 1.0, 'f1-score': 1.0, 'support': 34.0}, 'label_maize': {'precision': 1.0, 'recall': 1.0, 'f1-score': 1.0, 'support': 26.0}, 'label_chickpea': {'precision': 0.9629629629629629, 'recall': 1.0, 'f1-score': 0.9811320754716981, 'support': 26.0}, 'label_kidneybeans': {'precision': 1.0, 'recall': 1.0, 'f1-score': 1.0, 'support': 34.0}, 'label_pigeonpeas': {'precision': 1.0, 'recall': 1.0, 'f1-score': 1.0, 'support': 33.0}, 'label_mothbeans': {'precision': 1.0, 'recall': 1.0, 'f1-score': 1.0, 'support': 30.0}, 'label_mungbean': {'precision': 1.0, 'recall': 1.0, 'f1-score': 1.0, 'support': 28.0}, 'label_blackgram': {'precision': 1.0, 'recall': 1.0, 'f1-score': 1.0, 'support': 23.0}, 'label_lentil': {'precision': 0.8648648648648649, 'recall': 0.9411764705882353, 'f1-score': 0.9014084507042254, 'support': 34.0}, 'label_pomegranate': {'precision': 1.0, 'recall': 1.0, 'f1-score': 1.0, 'support': 36.0}, 'label_banana': {'precision': 0.9565217391304348, 'recall': 1.0, 'f1-score': 0.9777777777777777, 'support': 22.0}, 'label_mango': {'precision': 1.0, 'recall': 1.0, 'f1-score': 1.0, 'support': 26.0}, 'label_grapes': {'precision': 1.0, 'recall': 1.0, 'f1-score': 1.0, 'support': 32.0}, 'label_watermelon': {'precision': 1.0, 'recall': 0.9411764705882353, 'f1-score': 0.9696969696969697, 'support': 34.0}, 'label_muskmelon': {'precision': 1.0, 'recall': 1.0, 'f1-score': 1.0, 'support': 30.0}, 'label_apple': {'precision': 1.0, 'recall': 1.0, 'f1-score': 1.0, 'support': 24.0}, 'label_orange': {'precision': 1.0, 'recall': 1.0, 'f1-score': 1.0, 'support': 25.0}, 'label_papaya': {'precision': 1.0, 'recall': 1.0, 'f1-score': 1.0, 'support': 37.0}, 'label_coconut': {'precision': 1.0, 'recall': 1.0, 'f1-score': 1.0, 'support': 37.0}, 'label_cotton': {'precision': 1.0, 'recall': 1.0, 'f1-score': 1.0, 'support': 38.0}, 'label_jute': {'precision': 0.92, 'recall': 0.8214285714285714, 'f1-score': 0.8679245283018867, 'support': 28.0}, 'label_coffee': {'precision': 1.0, 'recall': 1.0, 'f1-score': 1.0, 'support': 23.0}, 'accuracy': 0.9863636363636363, 'macro avg': {'precision': 0.9865613439526484, 'recall': 0.9865355233002293, 'f1-score': 0.9862699909978435, 'support': 660.0}, 'weighted avg': {'precision': 0.9867362434898667, 'recall': 0.9863636363636363, 'f1-score': 0.9862727517567706, 'support': 660.0}}\n",
      "======================================\n",
      "n_estimators=100:\n",
      "Training Accuracy: 1.0\n",
      "Testing Accuracy: 0.9863636363636363\n",
      "Classification Report:\n",
      " {'label_rice': {'precision': 1.0, 'recall': 1.0, 'f1-score': 1.0, 'support': 34.0}, 'label_maize': {'precision': 1.0, 'recall': 1.0, 'f1-score': 1.0, 'support': 26.0}, 'label_chickpea': {'precision': 0.9629629629629629, 'recall': 1.0, 'f1-score': 0.9811320754716981, 'support': 26.0}, 'label_kidneybeans': {'precision': 1.0, 'recall': 1.0, 'f1-score': 1.0, 'support': 34.0}, 'label_pigeonpeas': {'precision': 1.0, 'recall': 1.0, 'f1-score': 1.0, 'support': 33.0}, 'label_mothbeans': {'precision': 1.0, 'recall': 1.0, 'f1-score': 1.0, 'support': 30.0}, 'label_mungbean': {'precision': 1.0, 'recall': 1.0, 'f1-score': 1.0, 'support': 28.0}, 'label_blackgram': {'precision': 1.0, 'recall': 1.0, 'f1-score': 1.0, 'support': 23.0}, 'label_lentil': {'precision': 0.8648648648648649, 'recall': 0.9411764705882353, 'f1-score': 0.9014084507042254, 'support': 34.0}, 'label_pomegranate': {'precision': 1.0, 'recall': 1.0, 'f1-score': 1.0, 'support': 36.0}, 'label_banana': {'precision': 0.9565217391304348, 'recall': 1.0, 'f1-score': 0.9777777777777777, 'support': 22.0}, 'label_mango': {'precision': 1.0, 'recall': 1.0, 'f1-score': 1.0, 'support': 26.0}, 'label_grapes': {'precision': 1.0, 'recall': 1.0, 'f1-score': 1.0, 'support': 32.0}, 'label_watermelon': {'precision': 1.0, 'recall': 0.9411764705882353, 'f1-score': 0.9696969696969697, 'support': 34.0}, 'label_muskmelon': {'precision': 1.0, 'recall': 1.0, 'f1-score': 1.0, 'support': 30.0}, 'label_apple': {'precision': 1.0, 'recall': 1.0, 'f1-score': 1.0, 'support': 24.0}, 'label_orange': {'precision': 1.0, 'recall': 1.0, 'f1-score': 1.0, 'support': 25.0}, 'label_papaya': {'precision': 1.0, 'recall': 1.0, 'f1-score': 1.0, 'support': 37.0}, 'label_coconut': {'precision': 1.0, 'recall': 1.0, 'f1-score': 1.0, 'support': 37.0}, 'label_cotton': {'precision': 1.0, 'recall': 1.0, 'f1-score': 1.0, 'support': 38.0}, 'label_jute': {'precision': 0.92, 'recall': 0.8214285714285714, 'f1-score': 0.8679245283018867, 'support': 28.0}, 'label_coffee': {'precision': 1.0, 'recall': 1.0, 'f1-score': 1.0, 'support': 23.0}, 'accuracy': 0.9863636363636363, 'macro avg': {'precision': 0.9865613439526484, 'recall': 0.9865355233002293, 'f1-score': 0.9862699909978435, 'support': 660.0}, 'weighted avg': {'precision': 0.9867362434898667, 'recall': 0.9863636363636363, 'f1-score': 0.9862727517567706, 'support': 660.0}}\n",
      "======================================\n",
      "n_estimators=200:\n",
      "Training Accuracy: 1.0\n",
      "Testing Accuracy: 0.9863636363636363\n",
      "Classification Report:\n",
      " {'label_rice': {'precision': 1.0, 'recall': 1.0, 'f1-score': 1.0, 'support': 34.0}, 'label_maize': {'precision': 1.0, 'recall': 1.0, 'f1-score': 1.0, 'support': 26.0}, 'label_chickpea': {'precision': 0.9629629629629629, 'recall': 1.0, 'f1-score': 0.9811320754716981, 'support': 26.0}, 'label_kidneybeans': {'precision': 1.0, 'recall': 1.0, 'f1-score': 1.0, 'support': 34.0}, 'label_pigeonpeas': {'precision': 1.0, 'recall': 1.0, 'f1-score': 1.0, 'support': 33.0}, 'label_mothbeans': {'precision': 1.0, 'recall': 1.0, 'f1-score': 1.0, 'support': 30.0}, 'label_mungbean': {'precision': 1.0, 'recall': 1.0, 'f1-score': 1.0, 'support': 28.0}, 'label_blackgram': {'precision': 1.0, 'recall': 1.0, 'f1-score': 1.0, 'support': 23.0}, 'label_lentil': {'precision': 0.8648648648648649, 'recall': 0.9411764705882353, 'f1-score': 0.9014084507042254, 'support': 34.0}, 'label_pomegranate': {'precision': 1.0, 'recall': 1.0, 'f1-score': 1.0, 'support': 36.0}, 'label_banana': {'precision': 0.9565217391304348, 'recall': 1.0, 'f1-score': 0.9777777777777777, 'support': 22.0}, 'label_mango': {'precision': 1.0, 'recall': 1.0, 'f1-score': 1.0, 'support': 26.0}, 'label_grapes': {'precision': 1.0, 'recall': 1.0, 'f1-score': 1.0, 'support': 32.0}, 'label_watermelon': {'precision': 1.0, 'recall': 0.9411764705882353, 'f1-score': 0.9696969696969697, 'support': 34.0}, 'label_muskmelon': {'precision': 1.0, 'recall': 1.0, 'f1-score': 1.0, 'support': 30.0}, 'label_apple': {'precision': 1.0, 'recall': 1.0, 'f1-score': 1.0, 'support': 24.0}, 'label_orange': {'precision': 1.0, 'recall': 1.0, 'f1-score': 1.0, 'support': 25.0}, 'label_papaya': {'precision': 1.0, 'recall': 1.0, 'f1-score': 1.0, 'support': 37.0}, 'label_coconut': {'precision': 1.0, 'recall': 1.0, 'f1-score': 1.0, 'support': 37.0}, 'label_cotton': {'precision': 1.0, 'recall': 1.0, 'f1-score': 1.0, 'support': 38.0}, 'label_jute': {'precision': 0.92, 'recall': 0.8214285714285714, 'f1-score': 0.8679245283018867, 'support': 28.0}, 'label_coffee': {'precision': 1.0, 'recall': 1.0, 'f1-score': 1.0, 'support': 23.0}, 'accuracy': 0.9863636363636363, 'macro avg': {'precision': 0.9865613439526484, 'recall': 0.9865355233002293, 'f1-score': 0.9862699909978435, 'support': 660.0}, 'weighted avg': {'precision': 0.9867362434898667, 'recall': 0.9863636363636363, 'f1-score': 0.9862727517567706, 'support': 660.0}}\n",
      "======================================\n"
     ]
    },
    {
     "data": {
      "image/png": "[encoded data removed]",
      "text/plain": [
       "<Figure size 1000x600 with 1 Axes>"
      ]
     },
     "metadata": {},
     "output_type": "display_data"
    }
   ],
   "source": [
    "n_estimators = [1, 2, 4, 8, 16, 32, 64, 100, 200]\n",
    "\n",
    "# Create empty lists to store the training and testing results\n",
    "train_results = []\n",
    "test_results = []\n",
    "\n",
    "# Iterate through different values of n_estimators\n",
    "for estimator in n_estimators:\n",
    "    # Initialize the RandomForestClassifier with the current value of n_estimators\n",
    "    rf_classifier = DecisionTreeClassifier( random_state=42)\n",
    "\n",
    "    # Train the model on the training data\n",
    "    rf_classifier.fit(X_train, y_train)\n",
    "\n",
    "    # Make predictions on the training and testing data\n",
    "    train_pred = rf_classifier.predict(X_train)\n",
    "    test_pred = rf_classifier.predict(X_test)\n",
    "\n",
    "    # Calculate accuracy for training and testing data\n",
    "    train_accuracy = accuracy_score(y_train, train_pred)\n",
    "    test_accuracy = accuracy_score(y_test, test_pred)\n",
    "\n",
    "    # Generate a classification report for testing data\n",
    "    report = classification_report(y_test, test_pred, target_names=train['label'].unique(), output_dict=True)\n",
    "\n",
    "    # Append results to the lists\n",
    "    train_results.append(train_accuracy)\n",
    "    test_results.append(test_accuracy)\n",
    "\n",
    "    # Print the results for the current estimator value\n",
    "    print(f\"n_estimators={estimator}:\")\n",
    "    print(f\"Training Accuracy: {train_accuracy}\")\n",
    "    print(f\"Testing Accuracy: {test_accuracy}\")\n",
    "    print(\"Classification Report:\\n\", report)\n",
    "    print(\"======================================\")\n",
    "\n",
    "# Plot the accuracy results for different n_estimators values\n",
    "plt.figure(figsize=(10, 6))\n",
    "plt.plot(n_estimators, train_results, label=\"Training Accuracy\", marker='o')\n",
    "plt.plot(n_estimators, test_results, label=\"Testing Accuracy\", marker='o')\n",
    "plt.xlabel(\"Number of Estimators\")\n",
    "plt.ylabel(\"Accuracy\")\n",
    "plt.title(\"Random Forest Classifier Accuracy vs. Number of Estimators\")\n",
    "plt.legend()\n",
    "plt.grid()\n",
    "plt.show()"
   ]
  },
  {
   "cell_type": "code",
   "execution_count": 11,
   "id": "8c8f3698",
   "metadata": {},
   "outputs": [
    {
     "name": "stdout",
     "output_type": "stream",
     "text": [
      "Predicted Crop Label: label_mango\n"
     ]
    }
   ],
   "source": [
    "# Assume you have a trained RandomForestClassifier called rf_classifier\n",
    "\n",
    "# Create a dictionary with input data\n",
    "input_data = {\n",
    "    \"N\": 45,          # Example values, replace with your actual input data\n",
    "    \"P\": 30,\n",
    "    \"K\": 25,\n",
    "    \"temperature\": 28,\n",
    "    \"humidity\": 65,\n",
    "    \"ph\": 6.5,\n",
    "    \"rainfall\": 110\n",
    "}\n",
    "\n",
    "# Convert the input data to a DataFrame\n",
    "input_df = pd.DataFrame([input_data])\n",
    "\n",
    "# Make predictions for the input data\n",
    "prediction = rf_classifier.predict(input_df)\n",
    "\n",
    "# The 'prediction' variable now contains the predicted crop label\n",
    "print(\"Predicted Crop Label:\", prediction[0])\n"
   ]
  },
  {
   "cell_type": "code",
   "execution_count": null,
   "id": "0d80f7cf",
   "metadata": {},
   "outputs": [],
   "source": [
    " "
   ]
  }
 ],
 "metadata": {
  "kernelspec": {
   "display_name": "Python 3 (ipykernel)",
   "language": "python",
   "name": "python3"
  },
  "language_info": {
   "codemirror_mode": {
    "name": "ipython",
    "version": 3
   },
   "file_extension": ".py",
   "mimetype": "text/x-python",
   "name": "python",
   "nbconvert_exporter": "python",
   "pygments_lexer": "ipython3",
   "version": "3.11.4"
  }
 },
 "nbformat": 4,
 "nbformat_minor": 5
}
